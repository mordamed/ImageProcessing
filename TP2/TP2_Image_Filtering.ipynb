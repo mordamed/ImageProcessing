{
 "cells": [
  {
   "cell_type": "markdown",
   "metadata": {},
   "source": [
    "# Image Filtering\n",
    "\n",
    "The main objectives of this module are:\n",
    "\n",
    "* Implement point filtering with look-up tables.\n",
    "* Implement region filtering with kernel convolution, morphological operations and edge detection.\n",
    "* Understand spatial frequency information with the Fourier transform."
   ]
  },
  {
   "cell_type": "markdown",
   "metadata": {},
   "source": [
    "## 1. Look-up tables\n",
    "\n",
    "Look-up tables are a very useful tool to perform simple pixel-level filtering of an image.\n",
    "\n",
    "Numpy arrays indexing ([see reference here](http://docs.scipy.org/doc/numpy/user/basics.indexing.html)) is a very powerful tool, but can be a bit counter-intuitive at first. We will use it to quickly create and use look-up tables to transform an image.\n",
    "\n",
    "Look at the short example below. \n",
    "\n",
    "We construct an image with 4 possible values for each pixel (-> $I(x,y) \\in \\{0,1,2,3\\}$). We then build the following LUT:\n",
    "\n",
    "|Input value|Output value|\n",
    "|--|--|\n",
    "|0|2|\n",
    "|1|3|\n",
    "|2|1|\n",
    "|3|0|\n",
    "\n",
    "And we apply it on the image."
   ]
  },
  {
   "cell_type": "code",
   "execution_count": 2,
   "metadata": {},
   "outputs": [
    {
     "data": {
      "image/png": "[encoded data removed]",
      "text/plain": [
       "<Figure size 800x200 with 1 Axes>"
      ]
     },
     "metadata": {},
     "output_type": "display_data"
    },
    {
     "data": {
      "image/png": "[encoded data removed]",
      "text/plain": [
       "<Figure size 800x400 with 2 Axes>"
      ]
     },
     "metadata": {},
     "output_type": "display_data"
    }
   ],
   "source": [
    "import numpy as np\n",
    "import matplotlib.pyplot as plt\n",
    "from matplotlib import cm\n",
    "%matplotlib inline\n",
    "\n",
    "# Let's create a 3x3 \"image\" with 4 possible pixel values (in [0,3])\n",
    "im = np.array([[1,0,2],[2,1,3],[3,3,1]])\n",
    "\n",
    "# look-up table is a vector of size 4 mapping the new value for the pixels of m\n",
    "lut = np.array([2,3,1,0]) # maps 0 -> 2, 1 -> 3, 2 -> 1, 3 -> 0\n",
    "\n",
    "plt.figure(figsize=(8,2))\n",
    "plt.plot(lut)\n",
    "plt.title('Look-up table')\n",
    "plt.show()\n",
    "\n",
    "# we can use numpy vector indexing to apply the look-up table:\n",
    "new_im = lut[im] # This will create a new array with the same size as m\n",
    "\n",
    "plt.figure(figsize=(8,4))\n",
    "plt.subplot(1,2,1) #supblot is useful to display images side-by-side\n",
    "plt.imshow(im, cmap=cm.gray)\n",
    "plt.title('Original')\n",
    "plt.subplot(1,2,2)\n",
    "plt.imshow(new_im, cmap=cm.gray)\n",
    "plt.title('LUT(Original)')\n",
    "plt.show()"
   ]
  },
  {
   "cell_type": "markdown",
   "metadata": {},
   "source": [
    "So a LUT for a grayscale image will be a 256-length vector. The first value in this vector will be the \"new value to give all pixels that are equal to 0 in the original image\".\n",
    "\n",
    "For inverting a greyscale image, this would mean that we want all 0s to become 255s, all 1s to become 254s, etc..."
   ]
  },
  {
   "cell_type": "code",
   "execution_count": 1,
   "metadata": {},
   "outputs": [],
   "source": [
    "# so lut_inv[0] = 255, lut_inv[255] = 0\n",
    "## -- Your code here -- ##"
   ]
  },
  {
   "cell_type": "markdown",
   "metadata": {},
   "source": [
    "**Starting from this example, create the following LUTs** and apply them to the \"walking.jpg\" image:\n",
    "1. For inverting an image (so that $0 \\rightarrow 255$, $255 \\rightarrow 0$)\n",
    "1. To keep only graylevel such that $g \\ge t$, setting all other values to 0.\n",
    "1. To reduce the number of gray levels from 256 to 8 (so that $255 \\rightarrow 7$, $0 \\rightarrow 0$).\n",
    "1. To \"stretch\" the histogram so that, given a **minimum value** $T_{min}$ and a **maximum value** $T_{max}$, we have :\n",
    "    * If $I(x,y) < T_{min}$, the new value is set to 0\n",
    "    * If $I(x,y) > T_{max}$, the new value is set to 255\n",
    "    * Values between $T_{min}$ and $T_{max}$ are stretched to cover the entire histogram.\n",
    "1. to perform an **equalization** of the walking.jpg image (so that the histogram becomes \"as flat as possible\")"
   ]
  },
  {
   "cell_type": "code",
   "execution_count": 2,
   "metadata": {},
   "outputs": [],
   "source": [
    "#1. For inverting an image\n",
    "\n",
    "from skimage.io import imread,imshow,imsave\n",
    "## -- Your code here -- ##"
   ]
  },
  {
   "cell_type": "code",
   "execution_count": 7,
   "metadata": {},
   "outputs": [],
   "source": [
    "#2 Keep graylevels above a certain threshold\n",
    "\n",
    "## -- Your code here -- ##"
   ]
  },
  {
   "cell_type": "markdown",
   "metadata": {},
   "source": [
    "Let's have a quick look at the effect on the histogram:"
   ]
  },
  {
   "cell_type": "code",
   "execution_count": 5,
   "metadata": {},
   "outputs": [],
   "source": [
    "## -- Your code here -- ##"
   ]
  },
  {
   "cell_type": "markdown",
   "metadata": {},
   "source": [
    "As we can see, we have a huge peak at 0, as all pixels that had a value between 0 and the threshold have been set to 0. The rest of the histogram has the same shape as before (except it obviously looks flatter next to the 0 peak).\n"
   ]
  },
  {
   "cell_type": "markdown",
   "metadata": {},
   "source": [
    "\n",
    "Next, we want to reduce the number of gray levels from 256 to 8 (meaning that we reduce the \"dynamic range\" of the image). So we want lut[0] = 0 and lut[255] = 7:"
   ]
  },
  {
   "cell_type": "code",
   "execution_count": 6,
   "metadata": {},
   "outputs": [],
   "source": [
    "#3 To reduce the number of gray levels from 256 to 8\n",
    "\n",
    "## -- Your code here -- ##"
   ]
  },
  {
   "cell_type": "markdown",
   "metadata": {},
   "source": [
    "Now we want to \"stretch\" the histogram by doing an auto-level. The goal of stretching the histogram is to better use the dynamic range. If we look at the histogram from the original image, we can see that we mostly don't use values above around 220. \n",
    "\n",
    "In other words, there are very few \"bright\" pixels in the image. On the other end, we do have black pixels, so we don't need to stretch in that direction. For the purpose of demonstrating histogram stretching, however, we will still use a T_min of 5."
   ]
  },
  {
   "cell_type": "code",
   "execution_count": 8,
   "metadata": {},
   "outputs": [],
   "source": [
    "#4 To \"stretch\" the histogram \n",
    "\n",
    "## -- Your code here -- ##"
   ]
  },
  {
   "cell_type": "markdown",
   "metadata": {},
   "source": [
    "With that, we make the \"bright\" parts of the image \"whiter\", and the dark part darker, without losing much information in the process. A way to automate the selection of the thresholds would be to use percentiles in the cumulative histogram. For instance, we could say that we use the percentiles 2 and 98 as lower and upper thresholds, so as to only \"lose\" 4\\% of the pixel information in the process:"
   ]
  },
  {
   "cell_type": "code",
   "execution_count": 9,
   "metadata": {},
   "outputs": [],
   "source": [
    "## -- Your code here -- ##"
   ]
  },
  {
   "cell_type": "code",
   "execution_count": 10,
   "metadata": {},
   "outputs": [],
   "source": [
    "# Compute LUT & apply to image:\n",
    "\n",
    "## -- Your code here -- ##"
   ]
  },
  {
   "cell_type": "markdown",
   "metadata": {},
   "source": [
    "This time, Tmin has been set as 0 (so we don't modify the dark tones of the image), and Tmax at 217. The image,which was a bit underexposed, now has a better contrast (but this operation is not lossless!).\n",
    "\n",
    "We now need to do equalization. The goal of equalization is to distribute the histogram as equally as possible. This is done quite simply by using the cumulative histogram as a look-up table ! We first have to normalize the cumulative histogram to the 0-255 range, then we can use it to equalize the image."
   ]
  },
  {
   "cell_type": "code",
   "execution_count": 11,
   "metadata": {},
   "outputs": [],
   "source": [
    "#5 Normalize to 0-255 range & convert to integer\n",
    "\n",
    "## -- Your code here -- ##"
   ]
  },
  {
   "cell_type": "markdown",
   "metadata": {},
   "source": [
    "As we can see, the peaks of the original histogram have been stretched to use more values, while the lower values were compressed together. This allows us to fully use the entire dynamic range, better than with the auto-level. However, the change is much more noticeable and produces an image that doesn't look natural. Depending on the application, it may or may not be interesting to do it. Here, for instance, details on the windows are more noticeable, but the image gets a \"grainy\" look."
   ]
  },
  {
   "cell_type": "markdown",
   "metadata": {},
   "source": [
    "**Need more help? You can check the following videos:**\n",
    "\n",
    "* [Look-Up Tables](https://www.youtube.com/watch?v=PHiiKoSsVac&list=PLI3XOM9BWLSW6vTPxc9ZfSABS31o7HMub&index=13)\n",
    "* [Auto-levels](https://www.youtube.com/watch?v=DLN4jfBJakQ&list=PLI3XOM9BWLSW6vTPxc9ZfSABS31o7HMub&index=14)\n",
    "* [Equalization](https://www.youtube.com/watch?v=C44WuMUudik&list=PLI3XOM9BWLSW6vTPxc9ZfSABS31o7HMub&index=15)"
   ]
  },
  {
   "cell_type": "markdown",
   "metadata": {},
   "source": [
    "## 2. Kernel convolution\n",
    "\n",
    "A convolution (in image processing) is a transformation of an image by a kernel. Each pixel from the original image will be replaced by the sum of all pixels from the neighbourhood defined by the kernel size multiplied element-wise with the values of the kernel. \n",
    "\n",
    "Although the convolution operation is available in the scipy library, but before using it we want to code it so as to really understand what's happening. Let's use a small:"
   ]
  },
  {
   "cell_type": "code",
   "execution_count": 24,
   "metadata": {},
   "outputs": [
    {
     "name": "stdout",
     "output_type": "stream",
     "text": [
      "a\n",
      "[[ 0  1  2  3  4]\n",
      " [ 5  6  7  8  9]\n",
      " [10 11 12 13 14]\n",
      " [15 16 17 18 19]\n",
      " [20 21 22 23 24]]\n",
      "k\n",
      "[[-4 -3 -2]\n",
      " [-1  0  1]\n",
      " [ 2  3  4]]\n",
      "multiplying neighbourhood of '6' by kernel\n",
      "[[ 0 -3 -4]\n",
      " [-5  0  7]\n",
      " [20 33 48]]\n",
      "image with new value for '6'\n",
      "[[ 0  1  2  3  4]\n",
      " [ 5 96  7  8  9]\n",
      " [10 11 12 13 14]\n",
      " [15 16 17 18 19]\n",
      " [20 21 22 23 24]]\n"
     ]
    }
   ],
   "source": [
    "# The \"image\" will be a 5x5 array\n",
    "a = np.arange(25).reshape((5,5))\n",
    "new_a = a.copy()\n",
    "print(\"a\")\n",
    "print(a)\n",
    "\n",
    "# We take a 3x3 kernel\n",
    "k = np.arange(9).reshape((3,3))-4\n",
    "print(\"k\")\n",
    "print(k)\n",
    "\n",
    "# What will the new value of the pixel \"6\" be in the new image ?\n",
    "# We have to center the kernel on that pixel, and multiply all the corresponding values:\n",
    "conv_6 = a[0:3,0:3]*k\n",
    "print(\"multiplying neighbourhood of '6' by kernel\")\n",
    "print(conv_6)\n",
    "\n",
    "# Then we sum those values\n",
    "new6 = conv_6.sum()\n",
    "new_a[1,1] = new6\n",
    "\n",
    "print(\"image with new value for '6'\")\n",
    "print(new_a)"
   ]
  },
  {
   "cell_type": "markdown",
   "metadata": {},
   "source": [
    "The most difficult part of the operation is to decide what to do about the borders. What's the neighbourhood of the \"0\" pixel in the previous example? \n",
    "\n",
    "Some common strategies are zero-padding (adding 0s all around the image) or same-padding (giving the pixels \"around\" the image the same value as the pixel closest to them). Another strategy is to just ignore those and to reduce the size of the image after the convolution.\n",
    "\n",
    "Now let's make a function to do the convolution on the whole image, using zero-padding:"
   ]
  },
  {
   "cell_type": "code",
   "execution_count": null,
   "metadata": {},
   "outputs": [],
   "source": [
    "def convolve(im,k):\n",
    "    ## -- Your code here -- ##\n",
    "    \n",
    "#on image\n",
    "## -- Your code here -- ##"
   ]
  },
  {
   "cell_type": "markdown",
   "metadata": {},
   "source": [
    "As we can see, this particular kernel has the effect of blurring slightly the image. A bigger kernel would blur it more.\n",
    "\n",
    "For the next part, we will use the skimage implementations of the mean & median filters and see how they perform at noise reduction. We start with the noisy image, and try some mean filters with different sizes."
   ]
  },
  {
   "cell_type": "code",
   "execution_count": 14,
   "metadata": {},
   "outputs": [],
   "source": [
    "from skimage.filters.rank import mean, median\n",
    "from skimage.morphology import disk\n",
    "\n",
    "## -- Your code here -- ##"
   ]
  },
  {
   "cell_type": "markdown",
   "metadata": {},
   "source": [
    "As we can see, the noise is reduced, but we lose a lot of details on the image. Compare with the median filter:"
   ]
  },
  {
   "cell_type": "code",
   "execution_count": 15,
   "metadata": {},
   "outputs": [],
   "source": [
    "## -- Your code here -- ##"
   ]
  },
  {
   "cell_type": "markdown",
   "metadata": {},
   "source": [
    "We see that the median filter removes the salt and pepper noise almost entirely, while keeping the image sharp. Even when using a larger kernel, the main borders of the image are still visible."
   ]
  },
  {
   "cell_type": "markdown",
   "metadata": {},
   "source": [
    "**Need more help? You can check the following videos:**\n",
    "\n",
    "* [Kernel convolution](https://www.youtube.com/watch?v=FaTvGWPnLng&list=PLI3XOM9BWLSW6vTPxc9ZfSABS31o7HMub&index=16)\n",
    "* [Mean and Median filters](https://www.youtube.com/watch?v=GLTuF3lwDLs&list=PLI3XOM9BWLSW6vTPxc9ZfSABS31o7HMub&index=17)"
   ]
  },
  {
   "cell_type": "markdown",
   "metadata": {},
   "source": [
    "## 3. 2D Fourier transform\n",
    "\n",
    "The 2D Fourier transform allows us to get a representation of the spatial frequencies present in an image. A very powerful way of filtering images is to modify those frequencies directly by modifying the \"Fourier image\", and to use the inverse transform to get the pixel values of the filtered image.\n",
    "\n",
    "Let's illustrate that with a fake example. We start with a completely random signal and compute the Fourier transform. Note that the Fourier image is complex, so we use its amplitude. As the range of amplitudes is so high that we don't see much in the resulting image, we display the log of the amplitude."
   ]
  },
  {
   "cell_type": "code",
   "execution_count": 16,
   "metadata": {},
   "outputs": [],
   "source": [
    "from numpy.fft import fft2,ifft2,fftshift,ifftshift\n",
    "# fft2 -> Fourier transform\n",
    "# ifft2 -> Inverse transform\n",
    "# fftshift & ifftshift -> reorganize the \"Fourier image\" to make it more easily interpretable.\n",
    "\n",
    "## -- Your code here -- ##"
   ]
  },
  {
   "cell_type": "markdown",
   "metadata": {},
   "source": [
    "We could now, for instance, decide to add an horizontal frequency by creating peaks in the Fourier image on the horizontal axis. The further away from the center we put the peaks, the higher the frequency."
   ]
  },
  {
   "cell_type": "code",
   "execution_count": 17,
   "metadata": {},
   "outputs": [],
   "source": [
    "## -- Your code here -- ##"
   ]
  },
  {
   "cell_type": "markdown",
   "metadata": {},
   "source": [
    "Now we could also decide to mask the central region, which would remove the peaks that we just created and put all those values at zero. The image will once again look random:"
   ]
  },
  {
   "cell_type": "code",
   "execution_count": 18,
   "metadata": {},
   "outputs": [],
   "source": [
    "## -- Your code here -- ##"
   ]
  },
  {
   "cell_type": "markdown",
   "metadata": {},
   "source": [
    "Starting from those examples and the code below:\n",
    "\n",
    "1. Use the Fourier transform to reduce the [dithering](https://en.wikipedia.org/wiki/Dither) of the *moire.png* image by building a low-pass filter.\n",
    "1. Build a high-pass filter using Fourier transform and apply the filter to the \"walking\" image."
   ]
  },
  {
   "cell_type": "code",
   "execution_count": null,
   "metadata": {},
   "outputs": [],
   "source": [
    "from numpy.fft import fft2,ifft2,fftshift,ifftshift\n",
    "\n",
    "\n",
    "def fourier(im)\n",
    "    ## -- Your code here -- ##\n",
    "\n",
    "def ifourier(f):\n",
    "    ## -- Your code here -- ##"
   ]
  },
  {
   "cell_type": "markdown",
   "metadata": {},
   "source": [
    "We can see that the Fourier transform of this image has many very distinct peaks, which indicates a very repetitive pattern, much more pronouced than in the \"walking\" image.\n",
    "\n",
    "So how can we use that to improve the moire image and remove the dithering ?\n",
    "\n",
    "This dithering is \"encoded\" in the high frequency peaks. What happens if we remove those and only keep the \"center\" of the Fourier image ?"
   ]
  },
  {
   "cell_type": "code",
   "execution_count": null,
   "metadata": {},
   "outputs": [],
   "source": [
    "# Quick function to create a disk shaped mask to apply to our Fourier image\n",
    "def get_disk_mask(r, imshape)\n",
    "    ## -- Your code here -- ##"
   ]
  },
  {
   "cell_type": "code",
   "execution_count": 21,
   "metadata": {},
   "outputs": [],
   "source": [
    "# Only keep the low frequencies\n",
    "## -- Your code here -- ##"
   ]
  },
  {
   "cell_type": "markdown",
   "metadata": {},
   "source": [
    "This operation is actually a low-pass filter, which removes the high frequencies. In the same way, we can create a high-pass filter to only let those high frequencies pass."
   ]
  },
  {
   "cell_type": "code",
   "execution_count": null,
   "metadata": {},
   "outputs": [],
   "source": [
    "def high_pass(im,r):\n",
    "    ## -- Your code here -- ##"
   ]
  },
  {
   "cell_type": "markdown",
   "metadata": {},
   "source": [
    "This produces a sort of border detector, which we can see a lot better if we take the absolute value:"
   ]
  },
  {
   "cell_type": "code",
   "execution_count": 22,
   "metadata": {},
   "outputs": [],
   "source": [
    "## -- Your code here -- ##"
   ]
  },
  {
   "cell_type": "markdown",
   "metadata": {},
   "source": [
    "**Need more help? You can check the following videos:**\n",
    "\n",
    "* [Understanding the 2D Fourier transform](https://www.youtube.com/watch?v=bsNQpeBZ7IY&list=PLI3XOM9BWLSW6vTPxc9ZfSABS31o7HMub&index=18)\n",
    "* [Filters in Fourier space](https://www.youtube.com/watch?v=8g-sE7wkKpU&list=PLI3XOM9BWLSW6vTPxc9ZfSABS31o7HMub&index=19)"
   ]
  },
  {
   "cell_type": "markdown",
   "metadata": {},
   "source": [
    "## 4. Morphological operations\n",
    "\n",
    "Morphology is a broad set of image processing operations that process images based on shapes.\n",
    "\n",
    "The most basic morphological operations are dilation and erosion. Dilation adds pixels to the boundaries of objects in an image, while erosion removes pixels on object boundaries. \n",
    "\n",
    "Most morphological operations are not performed using either dilation or erosion; instead, they are performed by using both. Two most widely used compound operations are: \n",
    "1. Opening: by first performing erosion and then dilation.\n",
    "1. Closing: by first performing dilation and then erosion\n",
    "\n",
    "\n",
    "For morphology functions, [see the skimage documentation](http://scikit-image.org/docs/dev/api/skimage.morphology.html?highlight=morphology#module-skimage.morphology)"
   ]
  },
  {
   "cell_type": "markdown",
   "metadata": {},
   "source": [
    "Let's work with opening and closing on **circles.png**\n"
   ]
  },
  {
   "cell_type": "code",
   "execution_count": 23,
   "metadata": {},
   "outputs": [],
   "source": [
    "#Load circles.png and display\n",
    "\n",
    "import skimage.filters.rank as skr\n",
    "from skimage.morphology import disk\n",
    "## -- Your code here -- ##"
   ]
  },
  {
   "cell_type": "markdown",
   "metadata": {},
   "source": [
    "The opening operation with a disk structuring element allows us to remove circles smaller than the disk. Thus, we can count how many disks we remove when we progressively increase this radius. This gives us a count of the number of disks per radius.\n",
    "\n",
    "1. Using the \"opening\" operation with a disk structuring element of increasing size, determine how many circles of any given radius there are in the *circles.png* image.\n",
    "1. Build a morphological filter that eliminates one size of circles."
   ]
  },
  {
   "cell_type": "code",
   "execution_count": null,
   "metadata": {},
   "outputs": [],
   "source": [
    "from skimage.morphology import erosion, dilation\n",
    "# Opening = dilation(erosion(image))\n",
    "\n",
    "def opening(im,sel):\n",
    "    ## -- Your code here -- ##"
   ]
  },
  {
   "cell_type": "markdown",
   "metadata": {},
   "source": [
    "To determine how many circles have disappeared, we have to look at the difference between the image pre- opening and the image post-opening. Let's open the image by progressively larger disks, and count the number of pixels in the remaining image at each step."
   ]
  },
  {
   "cell_type": "code",
   "execution_count": 24,
   "metadata": {},
   "outputs": [],
   "source": [
    "## -- Your code here -- ##"
   ]
  },
  {
   "cell_type": "markdown",
   "metadata": {},
   "source": [
    "We can see that the number of remaining pixels mostly remains flat (when the opening didn't remove anything), except for some radius where we suddenly remove many pixels: this corresponds to the radius of the circles. If we divide the \"removed pixels\" by the \"size of the circle\", which can be either given by the sum of the structuring element or by $πr^2$, we should get the number of circles removed."
   ]
  },
  {
   "cell_type": "code",
   "execution_count": 25,
   "metadata": {},
   "outputs": [],
   "source": [
    "## -- Your code here -- ##"
   ]
  },
  {
   "cell_type": "markdown",
   "metadata": {},
   "source": [
    "As we can see, it's far from perfect, particularly for the smaller circles : that's because the shape of the structuring element is not exactly the same as the circles in the image, which means we have a sort of \"border effect\", with sometimes the borders of the circle remaining after we substract the opened image, or the shape of the circle being modified by the opening operation. We can see that in action easily :"
   ]
  },
  {
   "cell_type": "code",
   "execution_count": 26,
   "metadata": {},
   "outputs": [],
   "source": [
    "## -- Your code here -- ##"
   ]
  },
  {
   "cell_type": "markdown",
   "metadata": {},
   "source": [
    "The \"opened\" image looks fine, but if we substract it from the original we see that the opening didn't completely restore the circle to their original shape. Still, it's enough to tell us at which radius we can expect to find circles, which should allow us to start trying to eliminate one specific size of circle."
   ]
  },
  {
   "cell_type": "code",
   "execution_count": null,
   "metadata": {},
   "outputs": [],
   "source": [
    "def remove_circle(im,r):\n",
    "    ## -- Your code here -- ##"
   ]
  },
  {
   "cell_type": "markdown",
   "metadata": {},
   "source": [
    "As we can see, the border effect is very visible. We can get a cleaner image by adding another opening with a very small radius just to \"clean up\" the noise from the image."
   ]
  },
  {
   "cell_type": "code",
   "execution_count": null,
   "metadata": {},
   "outputs": [],
   "source": [
    "def remove_circle(im,r):\n",
    "    ## -- Your code here -- ##"
   ]
  },
  {
   "cell_type": "markdown",
   "metadata": {},
   "source": [
    "**Need more help? You can check the following videos:**\n",
    "\n",
    "* [Morphological operations](https://www.youtube.com/watch?v=b64M2dZaWPA&list=PLI3XOM9BWLSW6vTPxc9ZfSABS31o7HMub&index=20)"
   ]
  },
  {
   "cell_type": "markdown",
   "metadata": {},
   "source": [
    "## 5. Edge detection\n",
    "\n",
    "We have used convolution before to apply a mean filter to blur the image. Other kernels will give other types of output. An example is the Sobel filter, which can be used for edge detection. The goal is to combine an horizontal border detector with a vertical border detector, which both use convolution.\n",
    "\n",
    "The aim is to use the [convolve2d](http://docs.scipy.org/doc/scipy-0.15.1/reference/generated/scipy.signal.convolve2d.html) function to develop the Sobel filter. \n",
    "\n",
    "The Sobel operator is given by\n",
    "$$\\mathbf{G} = \\sqrt{ {\\mathbf{G}_x}^2 + {\\mathbf{G}_y}^2 }$$\n",
    "where $G_x$ and $G_y$ are images respectively obtained by a convolution.\n",
    "\n",
    "\n",
    "**Apply the Sobel filter** to find the edges in the \"road\" image."
   ]
  },
  {
   "cell_type": "code",
   "execution_count": 27,
   "metadata": {},
   "outputs": [],
   "source": [
    "from skimage.data import camera\n",
    "from skimage.io import imread\n",
    "from scipy.signal import convolve2d\n",
    "\n",
    "## -- Your code here -- ##\n",
    "    "
   ]
  },
  {
   "cell_type": "markdown",
   "metadata": {},
   "source": [
    "The result is very noisy since the Sobel filter is very sensitive to high frequency textures. One way to only get the more meaningful borders could be to combined it with a median filter.\n",
    "\n",
    "Try applying it:"
   ]
  },
  {
   "cell_type": "code",
   "execution_count": 28,
   "metadata": {},
   "outputs": [],
   "source": [
    "from skimage.filters.rank import median\n",
    "from skimage.morphology import disk\n",
    "## -- Your code here -- ##"
   ]
  },
  {
   "cell_type": "markdown",
   "metadata": {},
   "source": [
    "We can see that the result is much cleaner.\n"
   ]
  },
  {
   "cell_type": "markdown",
   "metadata": {},
   "source": [
    "\n",
    "Another common edge detector is the Canny edge filter, which takes as parameter the standard deviation of the gaussian filter which, like we just did for the Sobel, is applied at the beginning of the algorithm.\n",
    "\n",
    "\n",
    "Compare with the results of the **Canny edge filter** with different \"sigma\" values (see [the skimage documentation](http://scikit-image.org/docs/dev/auto_examples/edges/plot_canny.html))"
   ]
  },
  {
   "cell_type": "code",
   "execution_count": 29,
   "metadata": {},
   "outputs": [],
   "source": [
    "from skimage.feature import canny\n",
    "## -- Your code here -- ##"
   ]
  },
  {
   "cell_type": "markdown",
   "metadata": {},
   "source": [
    "The Canny edge filter, unlike Sobel, produces a binary result. We would get something similar by thresholding the Sobel filter.\n",
    "\n",
    "We can now use this image as the basis for the **[Hough transform](http://scikit-image.org/docs/dev/auto_examples/edges/plot_line_hough_transform.html)**, to try to detect the main straight lines in the image. \n",
    "\n",
    "First, we can look at the image in \"Hough space\"."
   ]
  },
  {
   "cell_type": "code",
   "execution_count": 30,
   "metadata": {},
   "outputs": [],
   "source": [
    "from skimage.transform import hough_line, hough_line_peaks, probabilistic_hough_line\n",
    "\n",
    "## -- Your code here -- ##"
   ]
  },
  {
   "cell_type": "markdown",
   "metadata": {},
   "source": [
    "One way of finding the lines is to search for the peaks in Hough space. We can then represent them on the image:"
   ]
  },
  {
   "cell_type": "code",
   "execution_count": 31,
   "metadata": {},
   "outputs": [],
   "source": [
    "## -- Your code here -- ##"
   ]
  },
  {
   "cell_type": "markdown",
   "metadata": {},
   "source": [
    "Try to reduce the number of lines by reducig the number of peaks:"
   ]
  },
  {
   "cell_type": "code",
   "execution_count": 32,
   "metadata": {},
   "outputs": [],
   "source": [
    "## -- Your code here -- ##"
   ]
  },
  {
   "cell_type": "markdown",
   "metadata": {},
   "source": [
    "We could also use the **[Probabilistic Hough transform](https://scikit-image.org/docs/stable/auto_examples/edges/plot_line_hough_transform.html)**, which directly gives us line segments from the edge image:"
   ]
  },
  {
   "cell_type": "code",
   "execution_count": 33,
   "metadata": {},
   "outputs": [],
   "source": [
    "## -- Your code here -- ##"
   ]
  },
  {
   "cell_type": "markdown",
   "metadata": {},
   "source": [
    "We can apply the same to the **walking.jpg** image. Adjusting the threshold allows us to select only the strongest lines."
   ]
  },
  {
   "cell_type": "code",
   "execution_count": 34,
   "metadata": {},
   "outputs": [],
   "source": [
    "## -- Your code here -- ##"
   ]
  },
  {
   "cell_type": "markdown",
   "metadata": {},
   "source": [
    "**Need more help? You can check the following videos:**\n",
    "\n",
    "* [Edge detection with the Sobel filter](https://www.youtube.com/watch?v=QCjh8yyW-Wo&list=PLI3XOM9BWLSW6vTPxc9ZfSABS31o7HMub&index=21)\n",
    "* [Edge detection with the Canny transform](https://www.youtube.com/watch?v=yS5NnpWmuuI&list=PLI3XOM9BWLSW6vTPxc9ZfSABS31o7HMub&index=22)\n",
    "* [Line detection with the Hough Transform](https://www.youtube.com/watch?v=GD2xipfKQyY&list=PLI3XOM9BWLSW6vTPxc9ZfSABS31o7HMub&index=23)"
   ]
  },
  {
   "cell_type": "markdown",
   "metadata": {},
   "source": [
    "# Coding project - Picture enhancement\n",
    "\n",
    "Write code that automatically enhances a photograph.\n",
    "\n",
    "<img src=\"etretat.jpg\" width=\"250px\" />\n",
    "<img src=\"ex_enhance.jpg\" width=\"250px\" />\n",
    "\n",
    "\"Enhance\" may mean a lot of different things, and we encourage you to be creative in which enhancements you want to implement.\n",
    "\n",
    "Some possibilities include (not an exhaustive list):\n",
    "\n",
    "* Noise reduction\n",
    "* Auto-level\n",
    "* Gamma correction (with gamma provided by the user or automatically determined from the image histogram)\n",
    "* Increase colour saturation\n",
    "* ..."
   ]
  },
  {
   "cell_type": "code",
   "execution_count": 35,
   "metadata": {},
   "outputs": [],
   "source": [
    "\n",
    "# -- Your code here -- #\n"
   ]
  }
 ],
 "metadata": {
  "kernelspec": {
   "display_name": "Python 3",
   "language": "python",
   "name": "python3"
  },
  "language_info": {
   "codemirror_mode": {
    "name": "ipython",
    "version": 3
   },
   "file_extension": ".py",
   "mimetype": "text/x-python",
   "name": "python",
   "nbconvert_exporter": "python",
   "pygments_lexer": "ipython3",
   "version": "3.11.5"
  }
 },
 "nbformat": 4,
 "nbformat_minor": 2
}
